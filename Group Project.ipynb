{
 "cells": [
  {
   "cell_type": "code",
   "execution_count": 1,
   "metadata": {},
   "outputs": [],
   "source": [
    "%matplotlib inline\n",
    "# Dependencies and Setup\n",
    "from matplotlib.legend_handler import HandlerPatch\n",
    "import matplotlib.pyplot as plt\n",
    "import pandas as pd\n",
    "import numpy as np\n",
    "import matplotlib.patches as mpatches"
   ]
  },
  {
   "cell_type": "code",
   "execution_count": 2,
   "metadata": {},
   "outputs": [],
   "source": [
    "# Files to Load\n",
    "marathon_men_data =\"C:\\\\Users\\\\taiwo\\\\OneDrive\\\\Desktop\\\\PREWORK_TO\\\\Module 7\\\\Resources\\\\major_marathon_men (1).csv\"\n",
    "marathon_women_data =\"C:\\\\Users\\\\taiwo\\\\OneDrive\\\\Desktop\\\\PREWORK_TO\\\\Module 7\\\\Resources\\\\major_marathon_women (2).csv\"\n",
    "\n",
    "\n",
    "# Read the men and women Data\n",
    "marathon_men_data_df = pd.read_csv(marathon_men_data)\n",
    "marathon_women_data_df = pd.read_csv(marathon_women_data)\n"
   ]
  },
  {
   "cell_type": "code",
   "execution_count": 3,
   "metadata": {},
   "outputs": [
    {
     "data": {
      "text/html": [
       "<div>\n",
       "<style scoped>\n",
       "    .dataframe tbody tr th:only-of-type {\n",
       "        vertical-align: middle;\n",
       "    }\n",
       "\n",
       "    .dataframe tbody tr th {\n",
       "        vertical-align: top;\n",
       "    }\n",
       "\n",
       "    .dataframe thead th {\n",
       "        text-align: right;\n",
       "    }\n",
       "</style>\n",
       "<table border=\"1\" class=\"dataframe\">\n",
       "  <thead>\n",
       "    <tr style=\"text-align: right;\">\n",
       "      <th></th>\n",
       "      <th>Year</th>\n",
       "      <th>Athlete</th>\n",
       "      <th>Country</th>\n",
       "      <th>Time</th>\n",
       "      <th>Marathon</th>\n",
       "    </tr>\n",
       "  </thead>\n",
       "  <tbody>\n",
       "    <tr>\n",
       "      <th>0</th>\n",
       "      <td>2018.0</td>\n",
       "      <td>Yuki Kawauchi</td>\n",
       "      <td>Japan</td>\n",
       "      <td>2:15:58</td>\n",
       "      <td>Boston</td>\n",
       "    </tr>\n",
       "    <tr>\n",
       "      <th>1</th>\n",
       "      <td>2018.0</td>\n",
       "      <td>Mo Farah</td>\n",
       "      <td>United Kingdom</td>\n",
       "      <td>2:05:11</td>\n",
       "      <td>Chicago</td>\n",
       "    </tr>\n",
       "    <tr>\n",
       "      <th>2</th>\n",
       "      <td>2018.0</td>\n",
       "      <td>Eliud Kipchoge</td>\n",
       "      <td>Kenya</td>\n",
       "      <td>2:01:39</td>\n",
       "      <td>Berlin</td>\n",
       "    </tr>\n",
       "    <tr>\n",
       "      <th>3</th>\n",
       "      <td>2018.0</td>\n",
       "      <td>Eliud Kipchoge</td>\n",
       "      <td>Kenya</td>\n",
       "      <td>2:04:17</td>\n",
       "      <td>London</td>\n",
       "    </tr>\n",
       "    <tr>\n",
       "      <th>4</th>\n",
       "      <td>2018.0</td>\n",
       "      <td>Dickson Chumba</td>\n",
       "      <td>Kenya</td>\n",
       "      <td>2:05:30</td>\n",
       "      <td>Tokyo</td>\n",
       "    </tr>\n",
       "  </tbody>\n",
       "</table>\n",
       "</div>"
      ],
      "text/plain": [
       "     Year         Athlete         Country     Time Marathon\n",
       "0  2018.0   Yuki Kawauchi           Japan  2:15:58   Boston\n",
       "1  2018.0        Mo Farah  United Kingdom  2:05:11  Chicago\n",
       "2  2018.0  Eliud Kipchoge           Kenya  2:01:39   Berlin\n",
       "3  2018.0  Eliud Kipchoge           Kenya  2:04:17   London\n",
       "4  2018.0  Dickson Chumba           Kenya  2:05:30    Tokyo"
      ]
     },
     "execution_count": 3,
     "metadata": {},
     "output_type": "execute_result"
    }
   ],
   "source": [
    "# Merge the two datasets \n",
    "joined_data_df = pd.concat([marathon_men_data_df, marathon_women_data_df])\n",
    "joined_data_df.head(5)"
   ]
  },
  {
   "cell_type": "code",
   "execution_count": 4,
   "metadata": {},
   "outputs": [
    {
     "name": "stdout",
     "output_type": "stream",
     "text": [
      "<pandas.core.groupby.generic.DataFrameGroupBy object at 0x0000027095584208>\n"
     ]
    }
   ],
   "source": [
    "# Using GroupBy in order to separate the data into fields according to \"Country\" values\n",
    "grouped_country_df = joined_data_df.groupby(['Country'])\n",
    "\n",
    "# The object returned is a \"GroupBy\" object and cannot be viewed normally...\n",
    "print(grouped_country_df)\n",
    "\n",
    "# In order to be visualized, a data function must be used...\n",
    "# grouped_country_df.count()"
   ]
  },
  {
   "cell_type": "code",
   "execution_count": 5,
   "metadata": {},
   "outputs": [
    {
     "data": {
      "text/html": [
       "<div>\n",
       "<style scoped>\n",
       "    .dataframe tbody tr th:only-of-type {\n",
       "        vertical-align: middle;\n",
       "    }\n",
       "\n",
       "    .dataframe tbody tr th {\n",
       "        vertical-align: top;\n",
       "    }\n",
       "\n",
       "    .dataframe thead th {\n",
       "        text-align: right;\n",
       "    }\n",
       "</style>\n",
       "<table border=\"1\" class=\"dataframe\">\n",
       "  <thead>\n",
       "    <tr style=\"text-align: right;\">\n",
       "      <th></th>\n",
       "      <th>Athlete</th>\n",
       "    </tr>\n",
       "    <tr>\n",
       "      <th>Country</th>\n",
       "      <th></th>\n",
       "    </tr>\n",
       "  </thead>\n",
       "  <tbody>\n",
       "    <tr>\n",
       "      <th>Kenya</th>\n",
       "      <td>139</td>\n",
       "    </tr>\n",
       "    <tr>\n",
       "      <th>United States</th>\n",
       "      <td>70</td>\n",
       "    </tr>\n",
       "    <tr>\n",
       "      <th>Ethiopia</th>\n",
       "      <td>51</td>\n",
       "    </tr>\n",
       "    <tr>\n",
       "      <th>United Kingdom</th>\n",
       "      <td>36</td>\n",
       "    </tr>\n",
       "    <tr>\n",
       "      <th>Japan</th>\n",
       "      <td>19</td>\n",
       "    </tr>\n",
       "  </tbody>\n",
       "</table>\n",
       "</div>"
      ],
      "text/plain": [
       "                Athlete\n",
       "Country                \n",
       "Kenya               139\n",
       "United States        70\n",
       "Ethiopia             51\n",
       "United Kingdom       36\n",
       "Japan                19"
      ]
     },
     "execution_count": 5,
     "metadata": {},
     "output_type": "execute_result"
    }
   ],
   "source": [
    "#Winner Count per country\n",
    "Winner_Count_per_country = grouped_country_df[[\"Athlete\"]].count()\n",
    "Winner_Count_per_country.sort_values(by=[\"Athlete\"], ascending=False).head(5)\n",
    "\n"
   ]
  },
  {
   "cell_type": "code",
   "execution_count": 6,
   "metadata": {},
   "outputs": [
    {
     "data": {
      "text/html": [
       "<div>\n",
       "<style scoped>\n",
       "    .dataframe tbody tr th:only-of-type {\n",
       "        vertical-align: middle;\n",
       "    }\n",
       "\n",
       "    .dataframe tbody tr th {\n",
       "        vertical-align: top;\n",
       "    }\n",
       "\n",
       "    .dataframe thead th {\n",
       "        text-align: right;\n",
       "    }\n",
       "</style>\n",
       "<table border=\"1\" class=\"dataframe\">\n",
       "  <thead>\n",
       "    <tr style=\"text-align: right;\">\n",
       "      <th></th>\n",
       "      <th>Year</th>\n",
       "      <th>Ethiopia</th>\n",
       "      <th>United Kingdom</th>\n",
       "      <th>Japan</th>\n",
       "      <th>Kenya</th>\n",
       "      <th>United States</th>\n",
       "    </tr>\n",
       "  </thead>\n",
       "  <tbody>\n",
       "    <tr>\n",
       "      <th>0</th>\n",
       "      <td>1960</td>\n",
       "      <td>0</td>\n",
       "      <td>72,328,047,042.16</td>\n",
       "      <td>44,307,342,950.40</td>\n",
       "      <td>791,265,458.82</td>\n",
       "      <td>543,300,000,000.00</td>\n",
       "    </tr>\n",
       "    <tr>\n",
       "      <th>1</th>\n",
       "      <td>1961</td>\n",
       "      <td>0</td>\n",
       "      <td>76,694,360,635.92</td>\n",
       "      <td>53,508,617,739.38</td>\n",
       "      <td>792,959,472.14</td>\n",
       "      <td>563,300,000,000.00</td>\n",
       "    </tr>\n",
       "    <tr>\n",
       "      <th>2</th>\n",
       "      <td>1962</td>\n",
       "      <td>0</td>\n",
       "      <td>80,601,939,635.25</td>\n",
       "      <td>60,723,018,683.73</td>\n",
       "      <td>868,111,400.01</td>\n",
       "      <td>605,100,000,000.00</td>\n",
       "    </tr>\n",
       "    <tr>\n",
       "      <th>3</th>\n",
       "      <td>1963</td>\n",
       "      <td>0</td>\n",
       "      <td>85,443,766,670.43</td>\n",
       "      <td>69,498,131,797.33</td>\n",
       "      <td>926,589,348.57</td>\n",
       "      <td>638,600,000,000.00</td>\n",
       "    </tr>\n",
       "    <tr>\n",
       "      <th>4</th>\n",
       "      <td>1964</td>\n",
       "      <td>0</td>\n",
       "      <td>93,387,598,813.93</td>\n",
       "      <td>81,749,006,381.51</td>\n",
       "      <td>998,759,333.64</td>\n",
       "      <td>685,800,000,000.00</td>\n",
       "    </tr>\n",
       "  </tbody>\n",
       "</table>\n",
       "</div>"
      ],
      "text/plain": [
       "   Year Ethiopia       United Kingdom                Japan             Kenya  \\\n",
       "0  1960        0   72,328,047,042.16    44,307,342,950.40    791,265,458.82    \n",
       "1  1961        0   76,694,360,635.92    53,508,617,739.38    792,959,472.14    \n",
       "2  1962        0   80,601,939,635.25    60,723,018,683.73    868,111,400.01    \n",
       "3  1963        0   85,443,766,670.43    69,498,131,797.33    926,589,348.57    \n",
       "4  1964        0   93,387,598,813.93    81,749,006,381.51    998,759,333.64    \n",
       "\n",
       "          United States  \n",
       "0   543,300,000,000.00   \n",
       "1   563,300,000,000.00   \n",
       "2   605,100,000,000.00   \n",
       "3   638,600,000,000.00   \n",
       "4   685,800,000,000.00   "
      ]
     },
     "execution_count": 6,
     "metadata": {},
     "output_type": "execute_result"
    }
   ],
   "source": [
    "# File to Load\n",
    "country_gdp_data =\"C:\\\\Users\\\\taiwo\\\\OneDrive\\\\Desktop\\\\PREWORK_TO\\\\Module 7\\\\Resources\\\\Country GDP.csv\"\n",
    "\n",
    "# Use Pandas to read data\n",
    "country_gdp_pd = pd.read_csv(country_gdp_data)\n",
    "country_gdp_pd = country_gdp_pd.fillna('0')\n",
    "country_gdp_pd.head()"
   ]
  },
  {
   "cell_type": "code",
   "execution_count": 7,
   "metadata": {},
   "outputs": [],
   "source": [
    "country_gdp_pd['Kenya'] = [float(blah.replace(\",\",\"\")) for blah in country_gdp_pd['Kenya']]"
   ]
  },
  {
   "cell_type": "code",
   "execution_count": 8,
   "metadata": {},
   "outputs": [],
   "source": [
    "country_gdp_pd['United Kingdom'] = [float(blah.replace(\",\",\"\")) for blah in country_gdp_pd['United Kingdom']]\n"
   ]
  },
  {
   "cell_type": "code",
   "execution_count": 9,
   "metadata": {},
   "outputs": [],
   "source": [
    "country_gdp_pd['Japan'] = [float(blah.replace(\",\",\"\")) for blah in country_gdp_pd['Japan']]\n"
   ]
  },
  {
   "cell_type": "code",
   "execution_count": 10,
   "metadata": {},
   "outputs": [],
   "source": [
    "country_gdp_pd['United States'] = [float(blah.replace(\",\",\"\")) for blah in country_gdp_pd['United States']]\n"
   ]
  },
  {
   "cell_type": "code",
   "execution_count": 11,
   "metadata": {},
   "outputs": [],
   "source": [
    "country_gdp_pd['Ethiopia'] = [float(blah.replace(\",\",\"\")) for blah in country_gdp_pd['Ethiopia']]"
   ]
  },
  {
   "cell_type": "markdown",
   "metadata": {},
   "source": [
    "#FILTERING BY COUNTRIES"
   ]
  },
  {
   "cell_type": "code",
   "execution_count": 12,
   "metadata": {},
   "outputs": [
    {
     "data": {
      "text/plain": [
       "2010.0    6\n",
       "2016.0    5\n",
       "2015.0    4\n",
       "2014.0    4\n",
       "2012.0    4\n",
       "Name: Year, dtype: int64"
      ]
     },
     "execution_count": 12,
     "metadata": {},
     "output_type": "execute_result"
    }
   ],
   "source": [
    "#Ethiopian Data - Winner count per year\n",
    "Ethiopia_data = joined_data_df[joined_data_df['Country']=='Ethiopia']\n",
    "Ethiopia_data = Ethiopia_data[\"Year\"].value_counts()\n",
    "Ethiopia_data.head()\n"
   ]
  },
  {
   "cell_type": "code",
   "execution_count": 13,
   "metadata": {},
   "outputs": [
    {
     "data": {
      "text/plain": [
       "1985.0    4\n",
       "1996.0    3\n",
       "1982.0    3\n",
       "1984.0    3\n",
       "1983.0    2\n",
       "Name: Year, dtype: int64"
      ]
     },
     "execution_count": 13,
     "metadata": {},
     "output_type": "execute_result"
    }
   ],
   "source": [
    "#UK Data\n",
    "United_Kingdom_data = joined_data_df[joined_data_df['Country']=='United Kingdom']\n",
    "United_Kingdom_data = United_Kingdom_data[\"Year\"].value_counts()\n",
    "United_Kingdom_data.head()"
   ]
  },
  {
   "cell_type": "code",
   "execution_count": 14,
   "metadata": {},
   "outputs": [
    {
     "data": {
      "text/plain": [
       "1987.0    2\n",
       "1986.0    2\n",
       "2000.0    1\n",
       "1965.0    1\n",
       "2010.0    1\n",
       "Name: Year, dtype: int64"
      ]
     },
     "execution_count": 14,
     "metadata": {},
     "output_type": "execute_result"
    }
   ],
   "source": [
    "#Japan Data\n",
    "Japan_data = joined_data_df[joined_data_df['Country']=='Japan']\n",
    "Japan_data = Japan_data[\"Year\"].value_counts()\n",
    "Japan_data.head()"
   ]
  },
  {
   "cell_type": "code",
   "execution_count": 15,
   "metadata": {},
   "outputs": [
    {
     "data": {
      "text/plain": [
       "2013.0    9\n",
       "2017.0    9\n",
       "2015.0    8\n",
       "2011.0    8\n",
       "2014.0    8\n",
       "Name: Year, dtype: int64"
      ]
     },
     "execution_count": 15,
     "metadata": {},
     "output_type": "execute_result"
    }
   ],
   "source": [
    "#Kenyan Data\n",
    "Kenya_data = joined_data_df[joined_data_df['Country']=='Kenya']\n",
    "Kenya_data = Kenya_data[\"Year\"].value_counts()\n",
    "Kenya_data.head()"
   ]
  },
  {
   "cell_type": "code",
   "execution_count": 16,
   "metadata": {},
   "outputs": [
    {
     "data": {
      "text/plain": [
       "1978.0    5\n",
       "1979.0    5\n",
       "1977.0    5\n",
       "1982.0    4\n",
       "1973.0    4\n",
       "Name: Year, dtype: int64"
      ]
     },
     "execution_count": 16,
     "metadata": {},
     "output_type": "execute_result"
    }
   ],
   "source": [
    "#USA Data\n",
    "United_States_data = joined_data_df[joined_data_df['Country']=='United States']\n",
    "United_States_data = United_States_data[\"Year\"].value_counts()\n",
    "United_States_data.head()"
   ]
  },
  {
   "cell_type": "code",
   "execution_count": 17,
   "metadata": {},
   "outputs": [],
   "source": [
    "Ethiopia_gdp = country_gdp_pd[['Year','Ethiopia']]\n",
    "# Ethiopia_data"
   ]
  },
  {
   "cell_type": "code",
   "execution_count": 18,
   "metadata": {},
   "outputs": [],
   "source": [
    "# Merge the two datasets \n",
    "# combined_Ethiopia_data_df = pd.merge(Ethiopia_gdp, Ethiopia_data, on='Year', how=\"left\")\n",
    "# combined_Ethiopia_data_df"
   ]
  },
  {
   "cell_type": "code",
   "execution_count": 19,
   "metadata": {},
   "outputs": [
    {
     "data": {
      "text/html": [
       "<div>\n",
       "<style scoped>\n",
       "    .dataframe tbody tr th:only-of-type {\n",
       "        vertical-align: middle;\n",
       "    }\n",
       "\n",
       "    .dataframe tbody tr th {\n",
       "        vertical-align: top;\n",
       "    }\n",
       "\n",
       "    .dataframe thead th {\n",
       "        text-align: right;\n",
       "    }\n",
       "</style>\n",
       "<table border=\"1\" class=\"dataframe\">\n",
       "  <thead>\n",
       "    <tr style=\"text-align: right;\">\n",
       "      <th></th>\n",
       "      <th>Year</th>\n",
       "      <th>Ethiopia</th>\n",
       "      <th>Athlete</th>\n",
       "    </tr>\n",
       "  </thead>\n",
       "  <tbody>\n",
       "    <tr>\n",
       "      <th>0</th>\n",
       "      <td>1960</td>\n",
       "      <td>0.0</td>\n",
       "      <td>0.0</td>\n",
       "    </tr>\n",
       "    <tr>\n",
       "      <th>1</th>\n",
       "      <td>1961</td>\n",
       "      <td>0.0</td>\n",
       "      <td>0.0</td>\n",
       "    </tr>\n",
       "    <tr>\n",
       "      <th>2</th>\n",
       "      <td>1962</td>\n",
       "      <td>0.0</td>\n",
       "      <td>0.0</td>\n",
       "    </tr>\n",
       "    <tr>\n",
       "      <th>3</th>\n",
       "      <td>1963</td>\n",
       "      <td>0.0</td>\n",
       "      <td>0.0</td>\n",
       "    </tr>\n",
       "    <tr>\n",
       "      <th>4</th>\n",
       "      <td>1964</td>\n",
       "      <td>0.0</td>\n",
       "      <td>0.0</td>\n",
       "    </tr>\n",
       "  </tbody>\n",
       "</table>\n",
       "</div>"
      ],
      "text/plain": [
       "   Year  Ethiopia  Athlete\n",
       "0  1960       0.0      0.0\n",
       "1  1961       0.0      0.0\n",
       "2  1962       0.0      0.0\n",
       "3  1963       0.0      0.0\n",
       "4  1964       0.0      0.0"
      ]
     },
     "execution_count": 19,
     "metadata": {},
     "output_type": "execute_result"
    }
   ],
   "source": [
    "Ethiopia1 = joined_data_df[['Year','Country','Athlete']][joined_data_df['Country']=='Ethiopia'].groupby(['Country','Year']).count().reset_index()[['Year','Athlete']]\n",
    "Ethiopia2 = country_gdp_pd[['Year','Ethiopia']]\n",
    "Ethiopia = pd.merge(Ethiopia2, Ethiopia1, on='Year', how='left')\n",
    "Ethiopia = Ethiopia.fillna(0)\n",
    "Ethiopia.head()\n",
    "#plt.scatter(Ethiopia['Ethiopia'],Ethiopia['Athlete'])"
   ]
  },
  {
   "cell_type": "code",
   "execution_count": 20,
   "metadata": {},
   "outputs": [
    {
     "data": {
      "text/html": [
       "<div>\n",
       "<style scoped>\n",
       "    .dataframe tbody tr th:only-of-type {\n",
       "        vertical-align: middle;\n",
       "    }\n",
       "\n",
       "    .dataframe tbody tr th {\n",
       "        vertical-align: top;\n",
       "    }\n",
       "\n",
       "    .dataframe thead th {\n",
       "        text-align: right;\n",
       "    }\n",
       "</style>\n",
       "<table border=\"1\" class=\"dataframe\">\n",
       "  <thead>\n",
       "    <tr style=\"text-align: right;\">\n",
       "      <th></th>\n",
       "      <th>Year</th>\n",
       "      <th>Japan</th>\n",
       "      <th>Athlete</th>\n",
       "    </tr>\n",
       "  </thead>\n",
       "  <tbody>\n",
       "    <tr>\n",
       "      <th>0</th>\n",
       "      <td>1960</td>\n",
       "      <td>4.430734e+10</td>\n",
       "      <td>0.0</td>\n",
       "    </tr>\n",
       "    <tr>\n",
       "      <th>1</th>\n",
       "      <td>1961</td>\n",
       "      <td>5.350862e+10</td>\n",
       "      <td>0.0</td>\n",
       "    </tr>\n",
       "    <tr>\n",
       "      <th>2</th>\n",
       "      <td>1962</td>\n",
       "      <td>6.072302e+10</td>\n",
       "      <td>0.0</td>\n",
       "    </tr>\n",
       "    <tr>\n",
       "      <th>3</th>\n",
       "      <td>1963</td>\n",
       "      <td>6.949813e+10</td>\n",
       "      <td>0.0</td>\n",
       "    </tr>\n",
       "    <tr>\n",
       "      <th>4</th>\n",
       "      <td>1964</td>\n",
       "      <td>8.174901e+10</td>\n",
       "      <td>0.0</td>\n",
       "    </tr>\n",
       "  </tbody>\n",
       "</table>\n",
       "</div>"
      ],
      "text/plain": [
       "   Year         Japan  Athlete\n",
       "0  1960  4.430734e+10      0.0\n",
       "1  1961  5.350862e+10      0.0\n",
       "2  1962  6.072302e+10      0.0\n",
       "3  1963  6.949813e+10      0.0\n",
       "4  1964  8.174901e+10      0.0"
      ]
     },
     "execution_count": 20,
     "metadata": {},
     "output_type": "execute_result"
    }
   ],
   "source": [
    "Japan1 = joined_data_df[['Year','Country','Athlete']][joined_data_df['Country']=='Japan'].groupby(['Country','Year']).count().reset_index()[['Year','Athlete']]\n",
    "Japan2 = country_gdp_pd[['Year','Japan']]\n",
    "Japan = pd.merge(Japan2, Japan1, on='Year', how='left')\n",
    "Japan = Japan.fillna(0)\n",
    "Japan.head()\n",
    "#plt.scatter(Japan['Japan'],Japan['Athlete'])"
   ]
  },
  {
   "cell_type": "code",
   "execution_count": 21,
   "metadata": {},
   "outputs": [
    {
     "data": {
      "text/html": [
       "<div>\n",
       "<style scoped>\n",
       "    .dataframe tbody tr th:only-of-type {\n",
       "        vertical-align: middle;\n",
       "    }\n",
       "\n",
       "    .dataframe tbody tr th {\n",
       "        vertical-align: top;\n",
       "    }\n",
       "\n",
       "    .dataframe thead th {\n",
       "        text-align: right;\n",
       "    }\n",
       "</style>\n",
       "<table border=\"1\" class=\"dataframe\">\n",
       "  <thead>\n",
       "    <tr style=\"text-align: right;\">\n",
       "      <th></th>\n",
       "      <th>Year</th>\n",
       "      <th>United Kingdom</th>\n",
       "      <th>Athlete</th>\n",
       "    </tr>\n",
       "  </thead>\n",
       "  <tbody>\n",
       "    <tr>\n",
       "      <th>0</th>\n",
       "      <td>1960</td>\n",
       "      <td>7.232805e+10</td>\n",
       "      <td>0.0</td>\n",
       "    </tr>\n",
       "    <tr>\n",
       "      <th>1</th>\n",
       "      <td>1961</td>\n",
       "      <td>7.669436e+10</td>\n",
       "      <td>0.0</td>\n",
       "    </tr>\n",
       "    <tr>\n",
       "      <th>2</th>\n",
       "      <td>1962</td>\n",
       "      <td>8.060194e+10</td>\n",
       "      <td>0.0</td>\n",
       "    </tr>\n",
       "    <tr>\n",
       "      <th>3</th>\n",
       "      <td>1963</td>\n",
       "      <td>8.544377e+10</td>\n",
       "      <td>0.0</td>\n",
       "    </tr>\n",
       "    <tr>\n",
       "      <th>4</th>\n",
       "      <td>1964</td>\n",
       "      <td>9.338760e+10</td>\n",
       "      <td>0.0</td>\n",
       "    </tr>\n",
       "  </tbody>\n",
       "</table>\n",
       "</div>"
      ],
      "text/plain": [
       "   Year  United Kingdom  Athlete\n",
       "0  1960    7.232805e+10      0.0\n",
       "1  1961    7.669436e+10      0.0\n",
       "2  1962    8.060194e+10      0.0\n",
       "3  1963    8.544377e+10      0.0\n",
       "4  1964    9.338760e+10      0.0"
      ]
     },
     "execution_count": 21,
     "metadata": {},
     "output_type": "execute_result"
    }
   ],
   "source": [
    "UK1 = joined_data_df[['Year','Country','Athlete']][joined_data_df['Country']=='United Kingdom'].groupby(['Country','Year']).count().reset_index()[['Year','Athlete']]\n",
    "UK2 = country_gdp_pd[['Year','United Kingdom']]\n",
    "UK = pd.merge(UK2, UK1, on='Year', how='left')\n",
    "UK = UK.fillna(0)\n",
    "UK.head()"
   ]
  },
  {
   "cell_type": "code",
   "execution_count": 22,
   "metadata": {},
   "outputs": [
    {
     "data": {
      "text/html": [
       "<div>\n",
       "<style scoped>\n",
       "    .dataframe tbody tr th:only-of-type {\n",
       "        vertical-align: middle;\n",
       "    }\n",
       "\n",
       "    .dataframe tbody tr th {\n",
       "        vertical-align: top;\n",
       "    }\n",
       "\n",
       "    .dataframe thead th {\n",
       "        text-align: right;\n",
       "    }\n",
       "</style>\n",
       "<table border=\"1\" class=\"dataframe\">\n",
       "  <thead>\n",
       "    <tr style=\"text-align: right;\">\n",
       "      <th></th>\n",
       "      <th>Year</th>\n",
       "      <th>United States</th>\n",
       "      <th>Athlete</th>\n",
       "    </tr>\n",
       "  </thead>\n",
       "  <tbody>\n",
       "    <tr>\n",
       "      <th>0</th>\n",
       "      <td>1960</td>\n",
       "      <td>5.433000e+11</td>\n",
       "      <td>0.0</td>\n",
       "    </tr>\n",
       "    <tr>\n",
       "      <th>1</th>\n",
       "      <td>1961</td>\n",
       "      <td>5.633000e+11</td>\n",
       "      <td>0.0</td>\n",
       "    </tr>\n",
       "    <tr>\n",
       "      <th>2</th>\n",
       "      <td>1962</td>\n",
       "      <td>6.051000e+11</td>\n",
       "      <td>0.0</td>\n",
       "    </tr>\n",
       "    <tr>\n",
       "      <th>3</th>\n",
       "      <td>1963</td>\n",
       "      <td>6.386000e+11</td>\n",
       "      <td>0.0</td>\n",
       "    </tr>\n",
       "    <tr>\n",
       "      <th>4</th>\n",
       "      <td>1964</td>\n",
       "      <td>6.858000e+11</td>\n",
       "      <td>0.0</td>\n",
       "    </tr>\n",
       "  </tbody>\n",
       "</table>\n",
       "</div>"
      ],
      "text/plain": [
       "   Year  United States  Athlete\n",
       "0  1960   5.433000e+11      0.0\n",
       "1  1961   5.633000e+11      0.0\n",
       "2  1962   6.051000e+11      0.0\n",
       "3  1963   6.386000e+11      0.0\n",
       "4  1964   6.858000e+11      0.0"
      ]
     },
     "execution_count": 22,
     "metadata": {},
     "output_type": "execute_result"
    }
   ],
   "source": [
    "USA1 = joined_data_df[['Year','Country','Athlete']][joined_data_df['Country']=='United States'].groupby(['Country','Year']).count().reset_index()[['Year','Athlete']]\n",
    "USA2 = country_gdp_pd[['Year','United States']]\n",
    "USA = pd.merge(USA2, USA1, on='Year', how='left')\n",
    "USA = USA.fillna(0)\n",
    "USA.head()\n",
    "#plt.scatter(USA['United States'],USA['Athlete'])\n"
   ]
  },
  {
   "cell_type": "code",
   "execution_count": 23,
   "metadata": {},
   "outputs": [
    {
     "data": {
      "text/html": [
       "<div>\n",
       "<style scoped>\n",
       "    .dataframe tbody tr th:only-of-type {\n",
       "        vertical-align: middle;\n",
       "    }\n",
       "\n",
       "    .dataframe tbody tr th {\n",
       "        vertical-align: top;\n",
       "    }\n",
       "\n",
       "    .dataframe thead th {\n",
       "        text-align: right;\n",
       "    }\n",
       "</style>\n",
       "<table border=\"1\" class=\"dataframe\">\n",
       "  <thead>\n",
       "    <tr style=\"text-align: right;\">\n",
       "      <th></th>\n",
       "      <th>Year</th>\n",
       "      <th>Kenya</th>\n",
       "      <th>Athlete</th>\n",
       "    </tr>\n",
       "  </thead>\n",
       "  <tbody>\n",
       "    <tr>\n",
       "      <th>0</th>\n",
       "      <td>1960</td>\n",
       "      <td>7.912655e+08</td>\n",
       "      <td>0.0</td>\n",
       "    </tr>\n",
       "    <tr>\n",
       "      <th>1</th>\n",
       "      <td>1961</td>\n",
       "      <td>7.929595e+08</td>\n",
       "      <td>0.0</td>\n",
       "    </tr>\n",
       "    <tr>\n",
       "      <th>2</th>\n",
       "      <td>1962</td>\n",
       "      <td>8.681114e+08</td>\n",
       "      <td>0.0</td>\n",
       "    </tr>\n",
       "    <tr>\n",
       "      <th>3</th>\n",
       "      <td>1963</td>\n",
       "      <td>9.265893e+08</td>\n",
       "      <td>0.0</td>\n",
       "    </tr>\n",
       "    <tr>\n",
       "      <th>4</th>\n",
       "      <td>1964</td>\n",
       "      <td>9.987593e+08</td>\n",
       "      <td>0.0</td>\n",
       "    </tr>\n",
       "  </tbody>\n",
       "</table>\n",
       "</div>"
      ],
      "text/plain": [
       "   Year         Kenya  Athlete\n",
       "0  1960  7.912655e+08      0.0\n",
       "1  1961  7.929595e+08      0.0\n",
       "2  1962  8.681114e+08      0.0\n",
       "3  1963  9.265893e+08      0.0\n",
       "4  1964  9.987593e+08      0.0"
      ]
     },
     "execution_count": 23,
     "metadata": {},
     "output_type": "execute_result"
    }
   ],
   "source": [
    "Kenya1 = joined_data_df[['Year','Country','Athlete']][joined_data_df['Country']=='Kenya'].groupby(['Country','Year']).count().reset_index()[['Year','Athlete']]\n",
    "Kenya2 = country_gdp_pd[['Year','Kenya']]\n",
    "Kenya = pd.merge(Kenya2, Kenya1, on='Year', how='left')\n",
    "Kenya = Kenya.fillna(0)\n",
    "Kenya.head()"
   ]
  },
  {
   "cell_type": "code",
   "execution_count": 24,
   "metadata": {},
   "outputs": [
    {
     "data": {
      "image/png": "[encoded data removed]",
      "text/plain": [
       "<Figure size 432x288 with 1 Axes>"
      ]
     },
     "metadata": {
      "needs_background": "light"
     },
     "output_type": "display_data"
    }
   ],
   "source": [
    "#define data\n",
    "y1 = Ethiopia['Athlete']\n",
    "x1 = Ethiopia['Ethiopia']\n",
    "y2 = Japan['Athlete']\n",
    "x2 = Japan['Japan']\n",
    "y3 = UK['Athlete']\n",
    "x3 = UK['United Kingdom']\n",
    "y4 = USA['Athlete']\n",
    "x4 = USA['United States']\n",
    "y5 = Kenya['Athlete']\n",
    "x5 = Kenya['Kenya']\n",
    "\n",
    "\n",
    "plt.xlabel('GDP Per Country $ Per Year')\n",
    "plt.ylabel('Total No Of Marathons Won Per Year')\n",
    "plt.title('GDP Vs Country Marathon Wins(1960 - 2018)')\n",
    "\n",
    "\n",
    "\n",
    "plt.scatter(x1, y1, marker='o', label='Ethiopia', s=70, c='purple' , alpha=1, edgecolors='black')\n",
    "plt.scatter(x2, y2, marker='o', label='Japan', s=70, c='red', alpha=1, edgecolors='black')\n",
    "plt.scatter(x3, y3, marker='o', label='United Kingdom', s=70, c='green', alpha=1, edgecolors='black')\n",
    "plt.scatter(x4, y4, marker='o', label='United States', s=70, c='gold', alpha=1, edgecolors='black')\n",
    "plt.scatter(x5, y5, marker='o', label='Kenya', c='skyblue', s=70, alpha=1, edgecolors='black')\n",
    "\n",
    "# Plot legend.\n",
    "plt.legend(loc=\"upper right\", markerscale=1., scatterpoints=1, fontsize=10)\n",
    "plt.grid(True)\n",
    "plt.savefig(\"../Images/GDP_MarathonWins.png\")\n",
    "plt.show()"
   ]
  },
  {
   "cell_type": "code",
   "execution_count": 25,
   "metadata": {},
   "outputs": [
    {
     "data": {
      "text/html": [
       "<div>\n",
       "<style scoped>\n",
       "    .dataframe tbody tr th:only-of-type {\n",
       "        vertical-align: middle;\n",
       "    }\n",
       "\n",
       "    .dataframe tbody tr th {\n",
       "        vertical-align: top;\n",
       "    }\n",
       "\n",
       "    .dataframe thead th {\n",
       "        text-align: right;\n",
       "    }\n",
       "</style>\n",
       "<table border=\"1\" class=\"dataframe\">\n",
       "  <thead>\n",
       "    <tr style=\"text-align: right;\">\n",
       "      <th></th>\n",
       "      <th>Year</th>\n",
       "      <th>Kenya GDP</th>\n",
       "      <th>Kenya Wins</th>\n",
       "      <th>USA GDP</th>\n",
       "      <th>USA Wins</th>\n",
       "      <th>UK GDP</th>\n",
       "      <th>UK Wins</th>\n",
       "      <th>Japan GDP</th>\n",
       "      <th>Japan Wins</th>\n",
       "      <th>Ethiopia GDP</th>\n",
       "      <th>Ethiopia Wins</th>\n",
       "    </tr>\n",
       "  </thead>\n",
       "  <tbody>\n",
       "    <tr>\n",
       "      <th>0</th>\n",
       "      <td>1960</td>\n",
       "      <td>7.912655e+08</td>\n",
       "      <td>0.0</td>\n",
       "      <td>5.433000e+11</td>\n",
       "      <td>0.0</td>\n",
       "      <td>7.232805e+10</td>\n",
       "      <td>0.0</td>\n",
       "      <td>4.430734e+10</td>\n",
       "      <td>0.0</td>\n",
       "      <td>0.0</td>\n",
       "      <td>0.0</td>\n",
       "    </tr>\n",
       "    <tr>\n",
       "      <th>1</th>\n",
       "      <td>1961</td>\n",
       "      <td>7.929595e+08</td>\n",
       "      <td>0.0</td>\n",
       "      <td>5.633000e+11</td>\n",
       "      <td>0.0</td>\n",
       "      <td>7.669436e+10</td>\n",
       "      <td>0.0</td>\n",
       "      <td>5.350862e+10</td>\n",
       "      <td>0.0</td>\n",
       "      <td>0.0</td>\n",
       "      <td>0.0</td>\n",
       "    </tr>\n",
       "    <tr>\n",
       "      <th>2</th>\n",
       "      <td>1962</td>\n",
       "      <td>8.681114e+08</td>\n",
       "      <td>0.0</td>\n",
       "      <td>6.051000e+11</td>\n",
       "      <td>0.0</td>\n",
       "      <td>8.060194e+10</td>\n",
       "      <td>0.0</td>\n",
       "      <td>6.072302e+10</td>\n",
       "      <td>0.0</td>\n",
       "      <td>0.0</td>\n",
       "      <td>0.0</td>\n",
       "    </tr>\n",
       "    <tr>\n",
       "      <th>3</th>\n",
       "      <td>1963</td>\n",
       "      <td>9.265893e+08</td>\n",
       "      <td>0.0</td>\n",
       "      <td>6.386000e+11</td>\n",
       "      <td>0.0</td>\n",
       "      <td>8.544377e+10</td>\n",
       "      <td>0.0</td>\n",
       "      <td>6.949813e+10</td>\n",
       "      <td>0.0</td>\n",
       "      <td>0.0</td>\n",
       "      <td>0.0</td>\n",
       "    </tr>\n",
       "    <tr>\n",
       "      <th>4</th>\n",
       "      <td>1964</td>\n",
       "      <td>9.987593e+08</td>\n",
       "      <td>0.0</td>\n",
       "      <td>6.858000e+11</td>\n",
       "      <td>0.0</td>\n",
       "      <td>9.338760e+10</td>\n",
       "      <td>0.0</td>\n",
       "      <td>8.174901e+10</td>\n",
       "      <td>0.0</td>\n",
       "      <td>0.0</td>\n",
       "      <td>0.0</td>\n",
       "    </tr>\n",
       "  </tbody>\n",
       "</table>\n",
       "</div>"
      ],
      "text/plain": [
       "   Year     Kenya GDP  Kenya Wins       USA GDP  USA Wins        UK GDP  \\\n",
       "0  1960  7.912655e+08         0.0  5.433000e+11       0.0  7.232805e+10   \n",
       "1  1961  7.929595e+08         0.0  5.633000e+11       0.0  7.669436e+10   \n",
       "2  1962  8.681114e+08         0.0  6.051000e+11       0.0  8.060194e+10   \n",
       "3  1963  9.265893e+08         0.0  6.386000e+11       0.0  8.544377e+10   \n",
       "4  1964  9.987593e+08         0.0  6.858000e+11       0.0  9.338760e+10   \n",
       "\n",
       "   UK Wins     Japan GDP  Japan Wins  Ethiopia GDP  Ethiopia Wins  \n",
       "0      0.0  4.430734e+10         0.0           0.0            0.0  \n",
       "1      0.0  5.350862e+10         0.0           0.0            0.0  \n",
       "2      0.0  6.072302e+10         0.0           0.0            0.0  \n",
       "3      0.0  6.949813e+10         0.0           0.0            0.0  \n",
       "4      0.0  8.174901e+10         0.0           0.0            0.0  "
      ]
     },
     "execution_count": 25,
     "metadata": {},
     "output_type": "execute_result"
    }
   ],
   "source": [
    "#Summary TableI - ANALYSIS BY YEAR\n",
    "\n",
    "Summary_Table1 = pd.DataFrame(\n",
    "    {\"Year\": Kenya['Year'],\"Kenya GDP\": Kenya['Kenya'], \"Kenya Wins\": Kenya['Athlete'],\n",
    "     \"USA GDP\": USA['United States'], \"USA Wins\": USA['Athlete'],\n",
    "     \"UK GDP\": UK['United Kingdom'], \"UK Wins\": UK['Athlete'],\n",
    "     \"Japan GDP\": Japan['Japan'], \"Japan Wins\": Japan['Athlete'],\n",
    "     \"Ethiopia GDP\": Ethiopia['Ethiopia'], \"Ethiopia Wins\": Ethiopia['Athlete'],\n",
    "   \n",
    "     })\n",
    "\n",
    "Summary_Table1.head()"
   ]
  },
  {
   "cell_type": "code",
   "execution_count": 26,
   "metadata": {},
   "outputs": [
    {
     "data": {
      "text/plain": [
       "0    1959 to 1969\n",
       "1    1959 to 1969\n",
       "2    1959 to 1969\n",
       "3    1959 to 1969\n",
       "4    1959 to 1969\n",
       "Name: Year, dtype: category\n",
       "Categories (6, object): [1959 to 1969 < 1970 to 1979 < 1980 to 1989 < 1990 to 1999 < 2000 to 2010 < 2011 to 2020]"
      ]
     },
     "execution_count": 26,
     "metadata": {},
     "output_type": "execute_result"
    }
   ],
   "source": [
    "# Create bins in which to place values based upon every decade\n",
    "bins = [1959, 1969, 1979, 1989, 1999, 2009, 2019]\n",
    "\n",
    "# Create labels for these bins\n",
    "group_labels = [\"1959 to 1969\", \"1970 to 1979\", \"1980 to 1989\" , \"1990 to 1999\" , \"2000 to 2010\" , \n",
    "                \"2011 to 2020\"]\n",
    "# Slice the data and place it into bins\n",
    "pd.cut(Summary_Table1[\"Year\"], bins, labels=group_labels).head()"
   ]
  },
  {
   "cell_type": "code",
   "execution_count": 27,
   "metadata": {},
   "outputs": [
    {
     "data": {
      "text/html": [
       "<div>\n",
       "<style scoped>\n",
       "    .dataframe tbody tr th:only-of-type {\n",
       "        vertical-align: middle;\n",
       "    }\n",
       "\n",
       "    .dataframe tbody tr th {\n",
       "        vertical-align: top;\n",
       "    }\n",
       "\n",
       "    .dataframe thead th {\n",
       "        text-align: right;\n",
       "    }\n",
       "</style>\n",
       "<table border=\"1\" class=\"dataframe\">\n",
       "  <thead>\n",
       "    <tr style=\"text-align: right;\">\n",
       "      <th></th>\n",
       "      <th>Year</th>\n",
       "      <th>Kenya GDP</th>\n",
       "      <th>Kenya Wins</th>\n",
       "      <th>USA GDP</th>\n",
       "      <th>USA Wins</th>\n",
       "      <th>UK GDP</th>\n",
       "      <th>UK Wins</th>\n",
       "      <th>Japan GDP</th>\n",
       "      <th>Japan Wins</th>\n",
       "      <th>Ethiopia GDP</th>\n",
       "      <th>Ethiopia Wins</th>\n",
       "      <th>Decades</th>\n",
       "    </tr>\n",
       "  </thead>\n",
       "  <tbody>\n",
       "    <tr>\n",
       "      <th>54</th>\n",
       "      <td>2014</td>\n",
       "      <td>6.144805e+10</td>\n",
       "      <td>8.0</td>\n",
       "      <td>1.752175e+13</td>\n",
       "      <td>1.0</td>\n",
       "      <td>3.034729e+12</td>\n",
       "      <td>0.0</td>\n",
       "      <td>4.850414e+12</td>\n",
       "      <td>0.0</td>\n",
       "      <td>5.561223e+10</td>\n",
       "      <td>4.0</td>\n",
       "      <td>2011 to 2020</td>\n",
       "    </tr>\n",
       "    <tr>\n",
       "      <th>55</th>\n",
       "      <td>2015</td>\n",
       "      <td>6.400775e+10</td>\n",
       "      <td>8.0</td>\n",
       "      <td>1.821930e+13</td>\n",
       "      <td>0.0</td>\n",
       "      <td>2.896421e+12</td>\n",
       "      <td>0.0</td>\n",
       "      <td>4.389476e+12</td>\n",
       "      <td>0.0</td>\n",
       "      <td>6.446455e+10</td>\n",
       "      <td>4.0</td>\n",
       "      <td>2011 to 2020</td>\n",
       "    </tr>\n",
       "    <tr>\n",
       "      <th>56</th>\n",
       "      <td>2016</td>\n",
       "      <td>6.918876e+10</td>\n",
       "      <td>6.0</td>\n",
       "      <td>1.870719e+13</td>\n",
       "      <td>0.0</td>\n",
       "      <td>2.659239e+12</td>\n",
       "      <td>0.0</td>\n",
       "      <td>4.926667e+12</td>\n",
       "      <td>0.0</td>\n",
       "      <td>7.427128e+10</td>\n",
       "      <td>5.0</td>\n",
       "      <td>2011 to 2020</td>\n",
       "    </tr>\n",
       "    <tr>\n",
       "      <th>57</th>\n",
       "      <td>2017</td>\n",
       "      <td>7.875739e+10</td>\n",
       "      <td>9.0</td>\n",
       "      <td>1.948539e+13</td>\n",
       "      <td>2.0</td>\n",
       "      <td>2.637866e+12</td>\n",
       "      <td>0.0</td>\n",
       "      <td>4.859951e+12</td>\n",
       "      <td>0.0</td>\n",
       "      <td>8.171633e+10</td>\n",
       "      <td>1.0</td>\n",
       "      <td>2011 to 2020</td>\n",
       "    </tr>\n",
       "    <tr>\n",
       "      <th>58</th>\n",
       "      <td>2018</td>\n",
       "      <td>8.790826e+10</td>\n",
       "      <td>6.0</td>\n",
       "      <td>2.049410e+13</td>\n",
       "      <td>1.0</td>\n",
       "      <td>2.825208e+12</td>\n",
       "      <td>1.0</td>\n",
       "      <td>4.970916e+12</td>\n",
       "      <td>1.0</td>\n",
       "      <td>8.435546e+10</td>\n",
       "      <td>1.0</td>\n",
       "      <td>2011 to 2020</td>\n",
       "    </tr>\n",
       "  </tbody>\n",
       "</table>\n",
       "</div>"
      ],
      "text/plain": [
       "    Year     Kenya GDP  Kenya Wins       USA GDP  USA Wins        UK GDP  \\\n",
       "54  2014  6.144805e+10         8.0  1.752175e+13       1.0  3.034729e+12   \n",
       "55  2015  6.400775e+10         8.0  1.821930e+13       0.0  2.896421e+12   \n",
       "56  2016  6.918876e+10         6.0  1.870719e+13       0.0  2.659239e+12   \n",
       "57  2017  7.875739e+10         9.0  1.948539e+13       2.0  2.637866e+12   \n",
       "58  2018  8.790826e+10         6.0  2.049410e+13       1.0  2.825208e+12   \n",
       "\n",
       "    UK Wins     Japan GDP  Japan Wins  Ethiopia GDP  Ethiopia Wins  \\\n",
       "54      0.0  4.850414e+12         0.0  5.561223e+10            4.0   \n",
       "55      0.0  4.389476e+12         0.0  6.446455e+10            4.0   \n",
       "56      0.0  4.926667e+12         0.0  7.427128e+10            5.0   \n",
       "57      0.0  4.859951e+12         0.0  8.171633e+10            1.0   \n",
       "58      1.0  4.970916e+12         1.0  8.435546e+10            1.0   \n",
       "\n",
       "         Decades  \n",
       "54  2011 to 2020  \n",
       "55  2011 to 2020  \n",
       "56  2011 to 2020  \n",
       "57  2011 to 2020  \n",
       "58  2011 to 2020  "
      ]
     },
     "execution_count": 27,
     "metadata": {},
     "output_type": "execute_result"
    }
   ],
   "source": [
    "# Place the data series into a new column inside of the DataFrame\n",
    "Summary_Table1[\"Decades\"] = pd.cut(Summary_Table1[\"Year\"], bins, labels=group_labels)\n",
    "Summary_Table1.tail()"
   ]
  },
  {
   "cell_type": "code",
   "execution_count": 29,
   "metadata": {},
   "outputs": [
    {
     "data": {
      "text/plain": [
       "Decades\n",
       "1959 to 1969     0.0\n",
       "1970 to 1979     0.0\n",
       "1980 to 1989     4.0\n",
       "1990 to 1999    24.0\n",
       "2000 to 2010    47.0\n",
       "2011 to 2020    64.0\n",
       "Name: Kenya Wins, dtype: float64"
      ]
     },
     "execution_count": 29,
     "metadata": {},
     "output_type": "execute_result"
    }
   ],
   "source": [
    "# Kenya Wins Per Decade\n",
    "Summary_Table = Summary_Table1.groupby(\"Decades\")\n",
    "Kenya_Wins_per_decade = (Summary_Table['Kenya Wins'].sum())\n",
    "Kenya_Wins_per_decade"
   ]
  },
  {
   "cell_type": "code",
   "execution_count": 30,
   "metadata": {},
   "outputs": [
    {
     "data": {
      "text/plain": [
       "Decades\n",
       "1959 to 1969    1.058436e+09\n",
       "1970 to 1979    3.373096e+09\n",
       "1980 to 1989    7.070550e+09\n",
       "1990 to 1999    9.903087e+09\n",
       "2000 to 2010    2.192772e+10\n",
       "2011 to 2020    6.097480e+10\n",
       "Name: Kenya GDP, dtype: float64"
      ]
     },
     "execution_count": 30,
     "metadata": {},
     "output_type": "execute_result"
    }
   ],
   "source": [
    "# Average GDP per Bin - Kenya\n",
    "Summary_Table = Summary_Table1.groupby(\"Decades\")\n",
    "Kenya_GDP_per_decade = (Summary_Table['Kenya GDP'].mean().round(2))\n",
    "Kenya_GDP_per_decade\n"
   ]
  },
  {
   "cell_type": "code",
   "execution_count": 31,
   "metadata": {},
   "outputs": [],
   "source": [
    "#plt.scatter(Kenya_GDP_per_decade,Kenya_Wins_per_decade)"
   ]
  },
  {
   "cell_type": "code",
   "execution_count": 32,
   "metadata": {},
   "outputs": [
    {
     "data": {
      "text/plain": [
       "Decades\n",
       "1959 to 1969     5.0\n",
       "1970 to 1979    36.0\n",
       "1980 to 1989    17.0\n",
       "1990 to 1999     2.0\n",
       "2000 to 2010     6.0\n",
       "2011 to 2020     4.0\n",
       "Name: USA Wins, dtype: float64"
      ]
     },
     "execution_count": 32,
     "metadata": {},
     "output_type": "execute_result"
    }
   ],
   "source": [
    "# USA wins per Decade\n",
    "Summary_Table = Summary_Table1.groupby(\"Decades\")\n",
    "USA_Wins_per_decade = (Summary_Table['USA Wins'].sum())\n",
    "USA_Wins_per_decade"
   ]
  },
  {
   "cell_type": "code",
   "execution_count": 33,
   "metadata": {},
   "outputs": [
    {
     "data": {
      "text/plain": [
       "Decades\n",
       "1959 to 1969    7.418900e+11\n",
       "1970 to 1979    1.710696e+12\n",
       "1980 to 1989    4.173163e+12\n",
       "1990 to 1999    7.577130e+12\n",
       "2000 to 2010    1.259074e+13\n",
       "2011 to 2020    1.754936e+13\n",
       "Name: USA GDP, dtype: float64"
      ]
     },
     "execution_count": 33,
     "metadata": {},
     "output_type": "execute_result"
    }
   ],
   "source": [
    "# USA Average GDP per Bin\n",
    "Summary_Table = Summary_Table1.groupby(\"Decades\")\n",
    "USA_GDP_per_decade = (Summary_Table['USA GDP'].mean().round(2))\n",
    "USA_GDP_per_decade"
   ]
  },
  {
   "cell_type": "code",
   "execution_count": 34,
   "metadata": {},
   "outputs": [],
   "source": [
    "#plt.scatter(USA_GDP_per_decade,USA_Wins_per_decade)"
   ]
  },
  {
   "cell_type": "code",
   "execution_count": 35,
   "metadata": {},
   "outputs": [
    {
     "data": {
      "text/plain": [
       "Decades\n",
       "1959 to 1969     0.0\n",
       "1970 to 1979     1.0\n",
       "1980 to 1989    18.0\n",
       "1990 to 1999     9.0\n",
       "2000 to 2010     7.0\n",
       "2011 to 2020     1.0\n",
       "Name: UK Wins, dtype: float64"
      ]
     },
     "execution_count": 35,
     "metadata": {},
     "output_type": "execute_result"
    }
   ],
   "source": [
    "# UK wins per Decade\n",
    "Summary_Table = Summary_Table1.groupby(\"Decades\")\n",
    "UK_Wins_per_decade = (Summary_Table['UK Wins'].sum())\n",
    "UK_Wins_per_decade"
   ]
  },
  {
   "cell_type": "code",
   "execution_count": 36,
   "metadata": {},
   "outputs": [
    {
     "data": {
      "text/plain": [
       "Decades\n",
       "1959 to 1969    9.447072e+10\n",
       "1970 to 1979    2.359735e+11\n",
       "1980 to 1989    6.244775e+11\n",
       "1990 to 1999    1.322634e+12\n",
       "2000 to 2010    2.309963e+12\n",
       "2011 to 2020    2.730159e+12\n",
       "Name: UK GDP, dtype: float64"
      ]
     },
     "execution_count": 36,
     "metadata": {},
     "output_type": "execute_result"
    }
   ],
   "source": [
    "# UK Average GDP per Bin\n",
    "Summary_Table = Summary_Table1.groupby(\"Decades\")\n",
    "UK_GDP_per_decade = (Summary_Table['UK GDP'].mean().round(2))\n",
    "UK_GDP_per_decade"
   ]
  },
  {
   "cell_type": "code",
   "execution_count": 37,
   "metadata": {},
   "outputs": [
    {
     "data": {
      "text/plain": [
       "Decades\n",
       "1959 to 1969    3.0\n",
       "1970 to 1979    0.0\n",
       "1980 to 1989    5.0\n",
       "1990 to 1999    0.0\n",
       "2000 to 2010    8.0\n",
       "2011 to 2020    3.0\n",
       "Name: Japan Wins, dtype: float64"
      ]
     },
     "execution_count": 37,
     "metadata": {},
     "output_type": "execute_result"
    }
   ],
   "source": [
    "# Japan wins per Decade\n",
    "Summary_Table = Summary_Table1.groupby(\"Decades\")\n",
    "Japan_Wins_per_decade = (Summary_Table['Japan Wins'].sum())\n",
    "Japan_Wins_per_decade"
   ]
  },
  {
   "cell_type": "code",
   "execution_count": 38,
   "metadata": {},
   "outputs": [
    {
     "data": {
      "text/plain": [
       "Decades\n",
       "1959 to 1969    9.489516e+10\n",
       "1970 to 1979    5.580241e+11\n",
       "1980 to 1989    1.815785e+12\n",
       "1990 to 1999    4.327938e+12\n",
       "2000 to 2010    4.663733e+12\n",
       "2011 to 2020    5.245990e+12\n",
       "Name: Japan GDP, dtype: float64"
      ]
     },
     "execution_count": 38,
     "metadata": {},
     "output_type": "execute_result"
    }
   ],
   "source": [
    "# Japan Average GDP per Bin\n",
    "Summary_Table = Summary_Table1.groupby(\"Decades\")\n",
    "Japan_GDP_per_decade = (Summary_Table['Japan GDP'].mean().round(2))\n",
    "Japan_GDP_per_decade"
   ]
  },
  {
   "cell_type": "code",
   "execution_count": 39,
   "metadata": {},
   "outputs": [
    {
     "data": {
      "text/plain": [
       "Decades\n",
       "1959 to 1969     0.0\n",
       "1970 to 1979     0.0\n",
       "1980 to 1989     1.0\n",
       "1990 to 1999     3.0\n",
       "2000 to 2010    16.0\n",
       "2011 to 2020    31.0\n",
       "Name: Ethiopia Wins, dtype: float64"
      ]
     },
     "execution_count": 39,
     "metadata": {},
     "output_type": "execute_result"
    }
   ],
   "source": [
    "# Ethiopia wins per Decade\n",
    "Summary_Table = Summary_Table1.groupby(\"Decades\")\n",
    "Ethiopia_Wins_per_decade = (Summary_Table['Ethiopia Wins'].sum())\n",
    "Ethiopia_Wins_per_decade"
   ]
  },
  {
   "cell_type": "code",
   "execution_count": 44,
   "metadata": {},
   "outputs": [
    {
     "data": {
      "text/html": [
       "<div>\n",
       "<style scoped>\n",
       "    .dataframe tbody tr th:only-of-type {\n",
       "        vertical-align: middle;\n",
       "    }\n",
       "\n",
       "    .dataframe tbody tr th {\n",
       "        vertical-align: top;\n",
       "    }\n",
       "\n",
       "    .dataframe thead th {\n",
       "        text-align: right;\n",
       "    }\n",
       "</style>\n",
       "<table border=\"1\" class=\"dataframe\">\n",
       "  <thead>\n",
       "    <tr style=\"text-align: right;\">\n",
       "      <th></th>\n",
       "      <th>Kenya_Wins_per_decade</th>\n",
       "      <th>USA_Wins_per_decade</th>\n",
       "      <th>UK_Wins_per_decade</th>\n",
       "      <th>Japan_Wins_per_decade</th>\n",
       "      <th>Ethiopia_Wins_per_decade</th>\n",
       "    </tr>\n",
       "    <tr>\n",
       "      <th>Decades</th>\n",
       "      <th></th>\n",
       "      <th></th>\n",
       "      <th></th>\n",
       "      <th></th>\n",
       "      <th></th>\n",
       "    </tr>\n",
       "  </thead>\n",
       "  <tbody>\n",
       "    <tr>\n",
       "      <th>1959 to 1969</th>\n",
       "      <td>0.0</td>\n",
       "      <td>5.0</td>\n",
       "      <td>0.0</td>\n",
       "      <td>3.0</td>\n",
       "      <td>0.0</td>\n",
       "    </tr>\n",
       "    <tr>\n",
       "      <th>1970 to 1979</th>\n",
       "      <td>0.0</td>\n",
       "      <td>36.0</td>\n",
       "      <td>1.0</td>\n",
       "      <td>0.0</td>\n",
       "      <td>0.0</td>\n",
       "    </tr>\n",
       "    <tr>\n",
       "      <th>1980 to 1989</th>\n",
       "      <td>4.0</td>\n",
       "      <td>17.0</td>\n",
       "      <td>18.0</td>\n",
       "      <td>5.0</td>\n",
       "      <td>1.0</td>\n",
       "    </tr>\n",
       "    <tr>\n",
       "      <th>1990 to 1999</th>\n",
       "      <td>24.0</td>\n",
       "      <td>2.0</td>\n",
       "      <td>9.0</td>\n",
       "      <td>0.0</td>\n",
       "      <td>3.0</td>\n",
       "    </tr>\n",
       "    <tr>\n",
       "      <th>2000 to 2010</th>\n",
       "      <td>47.0</td>\n",
       "      <td>6.0</td>\n",
       "      <td>7.0</td>\n",
       "      <td>8.0</td>\n",
       "      <td>16.0</td>\n",
       "    </tr>\n",
       "    <tr>\n",
       "      <th>2011 to 2020</th>\n",
       "      <td>64.0</td>\n",
       "      <td>4.0</td>\n",
       "      <td>1.0</td>\n",
       "      <td>3.0</td>\n",
       "      <td>31.0</td>\n",
       "    </tr>\n",
       "  </tbody>\n",
       "</table>\n",
       "</div>"
      ],
      "text/plain": [
       "              Kenya_Wins_per_decade  USA_Wins_per_decade  UK_Wins_per_decade  \\\n",
       "Decades                                                                        \n",
       "1959 to 1969                    0.0                  5.0                 0.0   \n",
       "1970 to 1979                    0.0                 36.0                 1.0   \n",
       "1980 to 1989                    4.0                 17.0                18.0   \n",
       "1990 to 1999                   24.0                  2.0                 9.0   \n",
       "2000 to 2010                   47.0                  6.0                 7.0   \n",
       "2011 to 2020                   64.0                  4.0                 1.0   \n",
       "\n",
       "              Japan_Wins_per_decade  Ethiopia_Wins_per_decade  \n",
       "Decades                                                        \n",
       "1959 to 1969                    3.0                       0.0  \n",
       "1970 to 1979                    0.0                       0.0  \n",
       "1980 to 1989                    5.0                       1.0  \n",
       "1990 to 1999                    0.0                       3.0  \n",
       "2000 to 2010                    8.0                      16.0  \n",
       "2011 to 2020                    3.0                      31.0  "
      ]
     },
     "execution_count": 44,
     "metadata": {},
     "output_type": "execute_result"
    }
   ],
   "source": [
    "#Summary TableII - WINNERS\n",
    "Summary_TableII = pd.DataFrame(\n",
    "    {\"Kenya_Wins_per_decade\": Kenya_Wins_per_decade,\n",
    "     \"USA_Wins_per_decade\": USA_Wins_per_decade,\n",
    "     \"UK_Wins_per_decade\": UK_Wins_per_decade,\n",
    "     \"Japan_Wins_per_decade\": Japan_Wins_per_decade,\n",
    "     \"Ethiopia_Wins_per_decade\": Ethiopia_Wins_per_decade,\n",
    "     \n",
    "     })\n",
    "\n",
    "Summary_TableII"
   ]
  },
  {
   "cell_type": "code",
   "execution_count": 45,
   "metadata": {},
   "outputs": [
    {
     "data": {
      "image/png": "[encoded data removed]",
      "text/plain": [
       "<Figure size 432x288 with 1 Axes>"
      ]
     },
     "metadata": {
      "needs_background": "light"
     },
     "output_type": "display_data"
    }
   ],
   "source": [
    "\n",
    "Summary_TableII.plot.bar()\n",
    "plt.legend(loc=\"best\")\n",
    "colors = [\"skyblue\",\"gold\", \"green\", \"red\", \"purple\"]\n",
    "plt.title(\"Country Marathon Wins Per Decade\")\n",
    "plt.xlabel(\"Decades\")\n",
    "plt.ylabel(\"Total No of Wins Per Decade\")\n",
    "plt.savefig(\"../Images/Country_MarathonWinsPerDecade.png\")"
   ]
  },
  {
   "cell_type": "code",
   "execution_count": 40,
   "metadata": {},
   "outputs": [
    {
     "data": {
      "text/plain": [
       "Decades\n",
       "1959 to 1969    0.000000e+00\n",
       "1970 to 1979    0.000000e+00\n",
       "1980 to 1989    8.393908e+09\n",
       "1990 to 1999    9.221089e+09\n",
       "2000 to 2010    1.499733e+10\n",
       "2011 to 2020    5.702948e+10\n",
       "Name: Ethiopia GDP, dtype: float64"
      ]
     },
     "execution_count": 40,
     "metadata": {},
     "output_type": "execute_result"
    }
   ],
   "source": [
    "# Ethiopia Average GDP per Bin\n",
    "Summary_Table = Summary_Table1.groupby(\"Decades\")\n",
    "Ethiopia_GDP_per_decade = (Summary_Table['Ethiopia GDP'].mean().round(2))\n",
    "Ethiopia_GDP_per_decade"
   ]
  },
  {
   "cell_type": "code",
   "execution_count": 41,
   "metadata": {},
   "outputs": [
    {
     "data": {
      "image/png": "[encoded data removed]",
      "text/plain": [
       "<Figure size 432x288 with 1 Axes>"
      ]
     },
     "metadata": {
      "needs_background": "light"
     },
     "output_type": "display_data"
    }
   ],
   "source": [
    "#define data\n",
    "y1 = Ethiopia_Wins_per_decade\n",
    "x1 = Ethiopia_GDP_per_decade\n",
    "y2 = Japan_Wins_per_decade\n",
    "x2 = Japan_GDP_per_decade\n",
    "y3 = UK_Wins_per_decade\n",
    "x3 = UK_GDP_per_decade\n",
    "y4 = USA_Wins_per_decade\n",
    "x4 = USA_GDP_per_decade\n",
    "y5 = Kenya_Wins_per_decade\n",
    "x5 = Kenya_GDP_per_decade\n",
    "\n",
    "\n",
    "plt.xlabel('Average GDP Per Country $ Per Decade')\n",
    "plt.ylabel('Total Marathon Wins Per Country Per Decade')\n",
    "plt.title('GDP Vs Country Marathon Wins For the Last 5 Decades')\n",
    "\n",
    "\n",
    "\n",
    "plt.scatter(x1, y1, marker='o', label='Ethiopia', s=70, c='purple' , alpha=1, edgecolors='black')\n",
    "plt.scatter(x2, y2, marker='o', label='Japan', s=70, c='red', alpha=1, edgecolors='black')\n",
    "plt.scatter(x3, y3, marker='o', label='United Kingdom', s=70, c='green', alpha=1, edgecolors='black')\n",
    "plt.scatter(x4, y4, marker='o', label='United States', s=70, c='gold', alpha=1, edgecolors='black')\n",
    "plt.scatter(x5, y5, marker='o', label='Kenya', c='skyblue', s=70, alpha=1, edgecolors='black')\n",
    "\n",
    "# Plot legend.\n",
    "plt.legend(loc=\"upper right\", markerscale=1., scatterpoints=1, fontsize=10)\n",
    "plt.grid(True)\n",
    "plt.savefig(\"../Images/GDP_MarathonWinsPerDecade.png\")\n",
    "plt.show()"
   ]
  },
  {
   "cell_type": "markdown",
   "metadata": {},
   "source": [
    "#OBSERVABLE TRENDS\n",
    "#1. The Scatterplot shows that there has been an inverse correlationship between average GDP and total marathon wins amongst the top 5 marathon countries in the last 5 decades."
   ]
  },
  {
   "cell_type": "code",
   "execution_count": null,
   "metadata": {},
   "outputs": [],
   "source": []
  }
 ],
 "metadata": {
  "kernelspec": {
   "display_name": "Python 3",
   "language": "python",
   "name": "python3"
  },
  "language_info": {
   "codemirror_mode": {
    "name": "ipython",
    "version": 3
   },
   "file_extension": ".py",
   "mimetype": "text/x-python",
   "name": "python",
   "nbconvert_exporter": "python",
   "pygments_lexer": "ipython3",
   "version": "3.7.3"
  }
 },
 "nbformat": 4,
 "nbformat_minor": 2
}
